{
 "cells": [
  {
   "cell_type": "code",
   "execution_count": 1,
   "id": "737b04e5",
   "metadata": {
    "_cell_guid": "b1076dfc-b9ad-4769-8c92-a6c4dae69d19",
    "_uuid": "8f2839f25d086af736a60e9eeb907d3b93b6e0e5",
    "execution": {
     "iopub.execute_input": "2023-03-23T21:38:30.577338Z",
     "iopub.status.busy": "2023-03-23T21:38:30.576824Z",
     "iopub.status.idle": "2023-03-23T21:38:30.589248Z",
     "shell.execute_reply": "2023-03-23T21:38:30.588385Z"
    },
    "papermill": {
     "duration": 0.0203,
     "end_time": "2023-03-23T21:38:30.591398",
     "exception": false,
     "start_time": "2023-03-23T21:38:30.571098",
     "status": "completed"
    },
    "tags": []
   },
   "outputs": [],
   "source": [
    "# Import Libraries:\n",
    "import numpy as np # linear algebra\n",
    "import pandas as pd # data processing, CSV file I/O (e.g. pd.read_csv)\n",
    "import os\n",
    "import random\n",
    "import csv\n",
    "\n",
    "\n",
    "#import matplotlib.pyplot as plt\n",
    "#from sklearn.neural_network import MLPClassifier\n",
    "#from sklearn.ensemble import RandomForestRegressor\n",
    "#from sklearn.metrics import mean_absolute_error\n",
    "#from sklearn.model_selection import train_test_split\n",
    "\n",
    "\n",
    "#Parameters and Constants:\n",
    "SEED = 31\n",
    "random.seed(SEED)\n",
    "\n",
    "\n",
    "#dat = np.loadtxt(\"/kaggle/input/parkinsonsfog-newfeatures/34dfee952f_newFeatures.csv\",delimiter=',',skiprows=1)\n",
    "#df = pd.DataFrame(dat)\n",
    "#print(df.head())\n",
    "#newDF = df[]\n",
    "#print(len(df))"
   ]
  },
  {
   "cell_type": "markdown",
   "id": "955b69ba",
   "metadata": {
    "papermill": {
     "duration": 0.002056,
     "end_time": "2023-03-23T21:38:30.596183",
     "exception": false,
     "start_time": "2023-03-23T21:38:30.594127",
     "status": "completed"
    },
    "tags": []
   },
   "source": [
    "Read in data and form test and train sets."
   ]
  },
  {
   "cell_type": "code",
   "execution_count": 2,
   "id": "983d3d8a",
   "metadata": {
    "execution": {
     "iopub.execute_input": "2023-03-23T21:38:30.602743Z",
     "iopub.status.busy": "2023-03-23T21:38:30.602062Z",
     "iopub.status.idle": "2023-03-23T21:41:11.683479Z",
     "shell.execute_reply": "2023-03-23T21:41:11.682294Z"
    },
    "papermill": {
     "duration": 161.08809,
     "end_time": "2023-03-23T21:41:11.686471",
     "exception": false,
     "start_time": "2023-03-23T21:38:30.598381",
     "status": "completed"
    },
    "tags": []
   },
   "outputs": [
    {
     "name": "stdout",
     "output_type": "stream",
     "text": [
      "Creating lists...\n",
      "Creating dataframes...\n"
     ]
    }
   ],
   "source": [
    "#read in data\n",
    "my_files_path = '/kaggle/input/parkinsonsfog-newfeatures/'\n",
    "\n",
    "colNames=[\"time\", \"accelVert\", \"accelML\", \"accelAP\", \n",
    "                       \"ampSumML\", \"ampSumAP\", \"ampSumVert\", \n",
    "                       \"maxAmpML\", \"maxAmpAP\", \"maxAmpVert\", \n",
    "                       \"numPeaksML\", \"numPeaksAP\", \"numPeaksVert\", \n",
    "                       \"maxAccelAmpML\", \"maxAccelAmpAP\", \"maxAccelAmpVert\", \n",
    "                       \"rmsAmpsLowfML\", \"rmsAmpsLowfAP\", \"rmsAmpsLowfVert\",  \n",
    "                       \"rmsAmpsHighfML\", \"rmsAmpsHighfAP\", \"rmsAmpsHighfVert\", \n",
    "                       \"freqOfMaxAmpML\", \"freqOfMaxAmpAP\", \"freqOfMaxAmpVert\", \n",
    "                       \"ratio1\", \"ratio2\", \"ratio3\",\n",
    "                       \"ratio4\", \"ratio5\", \"ratio6\",\n",
    "                       \"StartHesitation\", \"Turn\", \"Walking\"]\n",
    "\"\"\"\n",
    "trainData = pd.DataFrame(columns=[\"time\", \"accelVert\", \"accelML\", \"accelAP\", \n",
    "                       \"ampSumML\", \"ampSumAP\", \"ampSumVert\", \n",
    "                       \"maxAmpML\", \"maxAmpAP\", \"maxAmpVert\", \n",
    "                       \"numPeaksML\", \"numPeaksAP\", \"numPeaksVert\", \n",
    "                       \"maxAccelAmpML\", \"maxAccelAmpAP\", \"maxAccelAmpVert\", \n",
    "                       \"rmsAmpsLowfML\", \"rmsAmpsLowfAP\", \"rmsAmpsLowfVert\",  \n",
    "                       \"rmsAmpsHighfML\", \"rmsAmpsHighfAP\", \"rmsAmpsHighfVert\", \n",
    "                       \"freqOfMaxAmpML\", \"freqOfMaxAmpAP\", \"freqOfMaxAmpVert\", \n",
    "                       \"ratio1\", \"ratio2\", \"ratio3\",\n",
    "                       \"ratio4\", \"ratio5\", \"ratio6\",\n",
    "                       \"StartHesitation\", \"Turn\", \"Walking\"])\n",
    "\n",
    "testData = pd.DataFrame(columns=[\"time\", \"accelVert\", \"accelML\", \"accelAP\", \n",
    "                       \"ampSumML\", \"ampSumAP\", \"ampSumVert\", \n",
    "                       \"maxAmpML\", \"maxAmpAP\", \"maxAmpVert\", \n",
    "                       \"numPeaksML\", \"numPeaksAP\", \"numPeaksVert\", \n",
    "                       \"maxAccelAmpML\", \"maxAccelAmpAP\", \"maxAccelAmpVert\", \n",
    "                       \"rmsAmpsLowfML\", \"rmsAmpsLowfAP\", \"rmsAmpsLowfVert\",  \n",
    "                       \"rmsAmpsHighfML\", \"rmsAmpsHighfAP\", \"rmsAmpsHighfVert\", \n",
    "                       \"freqOfMaxAmpML\", \"freqOfMaxAmpAP\", \"freqOfMaxAmpVert\", \n",
    "                       \"ratio1\", \"ratio2\", \"ratio3\",\n",
    "                       \"ratio4\", \"ratio5\", \"ratio6\",\n",
    "                       \"StartHesitation\", \"Turn\", \"Walking\"])\n",
    "\"\"\"\n",
    "                        \n",
    "trainList = []\n",
    "testList = []\n",
    "\n",
    "\n",
    "\n",
    "print('Creating lists...')\n",
    "for dirname, _, filenames in os.walk(my_files_path):\n",
    "    for filename in filenames:\n",
    "        #print(my_files_path+filename)\n",
    "        #id = filename[:-16] #removes trailing _newFeatures.csv\n",
    "        #dataIn = pd.read_csv(my_files_path+filename)\n",
    "        # Open file \n",
    "        randTest = random.random()\n",
    "        #https://www.geeksforgeeks.org/reading-rows-from-a-csv-file-in-python/\n",
    "        with open(my_files_path+filename) as file_obj:\n",
    "            # Create reader object by passing the file object to reader method\n",
    "            # Skip the heading using next() method\n",
    "            heading = next(file_obj)\n",
    "            reader_obj = csv.reader(file_obj)   \n",
    "            # Iterate over each row in the csv file using reader object\n",
    "            for row in reader_obj:\n",
    "                #print(row)\n",
    "                if randTest > 0.1:\n",
    "                    #Add data to training\n",
    "                    trainList.append(row)\n",
    "                else: \n",
    "                    #Add data to test\n",
    "                    testList.append(row)\n",
    "\n",
    "print('Creating dataframes...')\n",
    "dfTrain = pd.DataFrame(trainList, columns = colNames)\n",
    "dfTest = pd.DataFrame(testList, columns = colNames)"
   ]
  },
  {
   "cell_type": "code",
   "execution_count": 3,
   "id": "0783e1d4",
   "metadata": {
    "execution": {
     "iopub.execute_input": "2023-03-23T21:41:11.693350Z",
     "iopub.status.busy": "2023-03-23T21:41:11.692955Z",
     "iopub.status.idle": "2023-03-23T21:43:15.328728Z",
     "shell.execute_reply": "2023-03-23T21:43:15.327646Z"
    },
    "papermill": {
     "duration": 123.642203,
     "end_time": "2023-03-23T21:43:15.331483",
     "exception": false,
     "start_time": "2023-03-23T21:41:11.689280",
     "status": "completed"
    },
    "tags": []
   },
   "outputs": [
    {
     "name": "stdout",
     "output_type": "stream",
     "text": [
      "Writing files...\n"
     ]
    }
   ],
   "source": [
    "#Now write files\n",
    "fileStringTrain = \"/kaggle/working/trainFinal.csv\"\n",
    "fileStringTest = \"/kaggle/working/testFinal.csv\"\n",
    "\n",
    "print('Writing files...')\n",
    "dfTrain.to_csv(fileStringTrain ,index=False)\n",
    "trainList.clear()\n",
    "dfTest.to_csv(fileStringTest ,index=False)\n",
    "testList.clear()"
   ]
  },
  {
   "cell_type": "code",
   "execution_count": 4,
   "id": "5b1ed077",
   "metadata": {
    "execution": {
     "iopub.execute_input": "2023-03-23T21:43:15.339404Z",
     "iopub.status.busy": "2023-03-23T21:43:15.339005Z",
     "iopub.status.idle": "2023-03-23T21:43:15.346796Z",
     "shell.execute_reply": "2023-03-23T21:43:15.343606Z"
    },
    "papermill": {
     "duration": 0.019694,
     "end_time": "2023-03-23T21:43:15.354439",
     "exception": false,
     "start_time": "2023-03-23T21:43:15.334745",
     "status": "completed"
    },
    "tags": []
   },
   "outputs": [
    {
     "name": "stdout",
     "output_type": "stream",
     "text": [
      "Finished\n"
     ]
    }
   ],
   "source": [
    "print('Finished')"
   ]
  },
  {
   "cell_type": "code",
   "execution_count": null,
   "id": "bcc90a4d",
   "metadata": {
    "papermill": {
     "duration": 0.015205,
     "end_time": "2023-03-23T21:43:15.377280",
     "exception": false,
     "start_time": "2023-03-23T21:43:15.362075",
     "status": "completed"
    },
    "tags": []
   },
   "outputs": [],
   "source": []
  }
 ],
 "metadata": {
  "kernelspec": {
   "display_name": "Python 3",
   "language": "python",
   "name": "python3"
  },
  "language_info": {
   "codemirror_mode": {
    "name": "ipython",
    "version": 3
   },
   "file_extension": ".py",
   "mimetype": "text/x-python",
   "name": "python",
   "nbconvert_exporter": "python",
   "pygments_lexer": "ipython3",
   "version": "3.7.12"
  },
  "papermill": {
   "default_parameters": {},
   "duration": 298.224703,
   "end_time": "2023-03-23T21:43:19.509546",
   "environment_variables": {},
   "exception": null,
   "input_path": "__notebook__.ipynb",
   "output_path": "__notebook__.ipynb",
   "parameters": {},
   "start_time": "2023-03-23T21:38:21.284843",
   "version": "2.4.0"
  }
 },
 "nbformat": 4,
 "nbformat_minor": 5
}
